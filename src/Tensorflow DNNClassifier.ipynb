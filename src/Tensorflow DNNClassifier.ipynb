{
 "cells": [
  {
   "cell_type": "markdown",
   "metadata": {},
   "source": [
    "# Tensorflow DNNClassifier"
   ]
  },
  {
   "cell_type": "markdown",
   "metadata": {},
   "source": [
    "## 1. Introduction\n",
    "\n",
    "A Tensorflow Deep Neural Network to classify review scores.\n",
    "\n",
    "* context: [main notebook](../Trifork%20Machine%20Learning%20Solution.ipynb)\n",
    "* algorithm: https://www.tensorflow.org/api_docs/python/tf/estimator/DNNClassifier"
   ]
  },
  {
   "cell_type": "code",
   "execution_count": 1,
   "metadata": {},
   "outputs": [
    {
     "data": {
      "text/plain": [
       "\"I ordered a Samsung S7 phone and it arrived last week May 4. I am very disappointed with the unit bcause the battery drain fast. I contacted their customer service the first time and the guy who answered the phone was looks unknowledgeable that's when  I told him that I need to speak to the manager or anyone who can really help me. The customer service agent then transfered the call and the manager rest assured that they will be refunding my bucks. Really disappointed!\""
      ]
     },
     "execution_count": 1,
     "metadata": {},
     "output_type": "execute_result"
    }
   ],
   "source": [
    "import tensorflow as tf\n",
    "import tensorflow_hub as hub\n",
    "import matplotlib.pyplot as plt\n",
    "import numpy as np\n",
    "import os\n",
    "import pandas as pd\n",
    "import re\n",
    "import seaborn as sns\n",
    "from sklearn.metrics import roc_curve, auc\n",
    "\n",
    "# The categorical labels\n",
    "LABELS = [1, 2, 3, 4, 5]\n",
    "SAVE_MODEL_PATH = '../models/model'\n",
    "\n",
    "# The reviews, showing just the 101th review\n",
    "data = pd.read_csv('../data/samples.csv')\n",
    "data.iloc[100, 1]"
   ]
  },
  {
   "cell_type": "markdown",
   "metadata": {},
   "source": [
    "## 2. Data Preparation\n",
    "\n",
    "The data is split 80/20 deterministically. Because the classifier used a label vocabulary, the 'Score' column is converted to strings."
   ]
  },
  {
   "cell_type": "code",
   "execution_count": 2,
   "metadata": {},
   "outputs": [
    {
     "name": "stdout",
     "output_type": "stream",
     "text": [
      "train: 1710\n",
      "test: 1709\n"
     ]
    }
   ],
   "source": [
    "# Convert labels to type string allowing use\n",
    "# of label_vocabulary in DNNClassifier\n",
    "data['Score'] = data['Score'].astype(str)\n",
    "\n",
    "# Split data into train and test sets\n",
    "train_df = data.sample(frac=0.5, random_state=200)\n",
    "test_df = data.drop(train_df.index)\n",
    "\n",
    "print('train:', len(train_df))\n",
    "print('test:', len(test_df))"
   ]
  },
  {
   "cell_type": "code",
   "execution_count": 3,
   "metadata": {
    "collapsed": true
   },
   "outputs": [],
   "source": [
    "# Training input on the whole training set with no limit on training epochs.\n",
    "train_input_fn = tf.estimator.inputs.pandas_input_fn(\n",
    "    train_df, train_df[\"Score\"], num_epochs=None, shuffle=True)\n",
    "\n",
    "# Prediction on the whole training set.\n",
    "predict_train_input_fn = tf.estimator.inputs.pandas_input_fn(\n",
    "    train_df, train_df[\"Score\"], shuffle=False)\n",
    "\n",
    "# Prediction on the test set.\n",
    "predict_test_input_fn = tf.estimator.inputs.pandas_input_fn(\n",
    "    test_df, test_df[\"Score\"], shuffle=False)"
   ]
  },
  {
   "cell_type": "code",
   "execution_count": 4,
   "metadata": {},
   "outputs": [
    {
     "name": "stdout",
     "output_type": "stream",
     "text": [
      "INFO:tensorflow:Using /tmp/tfhub_modules to cache modules.\n"
     ]
    }
   ],
   "source": [
    "# https://www.tensorflow.org/hub/api_docs/python/hub/text_embedding_column\n",
    "embedded_text_feature_column = hub.text_embedding_column(\n",
    "    key=\"Review\", \n",
    "    module_spec=\"https://tfhub.dev/google/nnlm-en-dim128/1\")"
   ]
  },
  {
   "cell_type": "markdown",
   "metadata": {},
   "source": [
    "Train and predict input functions are generated that can be used by the estimator. Finally, a feature column is used to map input data to representations that can be used by the estimator. The [nnlm-en-dim128/1 module](https://www.tensorflow.org/hub/modules/google/nnlm-en-dim128/1) is used for this mapping. It cleans the input data, and [hashes the words into buckets](https://developers.googleblog.com/2017/11/introducing-tensorflow-feature-columns.html)."
   ]
  },
  {
   "cell_type": "markdown",
   "metadata": {},
   "source": [
    "## 3. Model Building\n",
    "\n",
    "The Deep Neural Network Classifier (DNNClassifier) estimator will be trained using a gradient descent optimizer, two layers of 500 and 100, using relu activator function (by default), and a learning rate of 0.003."
   ]
  },
  {
   "cell_type": "code",
   "execution_count": 5,
   "metadata": {},
   "outputs": [
    {
     "name": "stdout",
     "output_type": "stream",
     "text": [
      "INFO:tensorflow:Using default config.\n",
      "WARNING:tensorflow:Using temporary folder as model directory: /tmp/tmpqxpi4cgz\n",
      "INFO:tensorflow:Using config: {'_num_ps_replicas': 0, '_save_summary_steps': 100, '_save_checkpoints_secs': 600, '_is_chief': True, '_tf_random_seed': None, '_model_dir': '/tmp/tmpqxpi4cgz', '_train_distribute': None, '_task_id': 0, '_master': '', '_keep_checkpoint_every_n_hours': 10000, '_service': None, '_save_checkpoints_steps': None, '_task_type': 'worker', '_device_fn': None, '_evaluation_master': '', '_num_worker_replicas': 1, '_log_step_count_steps': 100, '_keep_checkpoint_max': 5, '_cluster_spec': <tensorflow.python.training.server_lib.ClusterSpec object at 0x7f96af975cc0>, '_global_id_in_cluster': 0, '_session_config': None}\n"
     ]
    }
   ],
   "source": [
    "# https://www.tensorflow.org/api_docs/python/tf/estimator/DNNClassifier\n",
    "estimator = tf.estimator.DNNClassifier(\n",
    "    hidden_units=[500, 100],\n",
    "    feature_columns=[embedded_text_feature_column],\n",
    "    n_classes=len(LABELS),\n",
    "    activation_fn=tf.nn.relu,\n",
    "    optimizer=tf.train.AdagradOptimizer(learning_rate=0.003),\n",
    "    label_vocabulary=[str(x) for x in LABELS])"
   ]
  },
  {
   "cell_type": "code",
   "execution_count": 6,
   "metadata": {},
   "outputs": [
    {
     "name": "stdout",
     "output_type": "stream",
     "text": [
      "INFO:tensorflow:Calling model_fn.\n",
      "INFO:tensorflow:Initialize variable dnn/input_from_feature_columns/input_layer/Review_hub_module_embedding/module/embeddings/part_0:0 from checkpoint b'/tmp/tfhub_modules/32f2b2259e1cc8ca58c876921748361283e73997/variables/variables' with embeddings\n",
      "INFO:tensorflow:Done calling model_fn.\n",
      "INFO:tensorflow:Create CheckpointSaverHook.\n",
      "INFO:tensorflow:Graph was finalized.\n",
      "INFO:tensorflow:Running local_init_op.\n",
      "INFO:tensorflow:Done running local_init_op.\n",
      "INFO:tensorflow:Saving checkpoints for 0 into /tmp/tmpqxpi4cgz/model.ckpt.\n",
      "INFO:tensorflow:loss = 212.5026, step = 1\n",
      "INFO:tensorflow:global_step/sec: 148.759\n",
      "INFO:tensorflow:loss = 107.26344, step = 101 (0.673 sec)\n",
      "INFO:tensorflow:global_step/sec: 154.524\n",
      "INFO:tensorflow:loss = 89.34348, step = 201 (0.647 sec)\n",
      "INFO:tensorflow:global_step/sec: 142.243\n",
      "INFO:tensorflow:loss = 84.03978, step = 301 (0.703 sec)\n",
      "INFO:tensorflow:global_step/sec: 148.99\n",
      "INFO:tensorflow:loss = 82.79942, step = 401 (0.671 sec)\n",
      "INFO:tensorflow:global_step/sec: 150.427\n",
      "INFO:tensorflow:loss = 73.89191, step = 501 (0.665 sec)\n",
      "INFO:tensorflow:global_step/sec: 155.888\n",
      "INFO:tensorflow:loss = 89.39507, step = 601 (0.641 sec)\n",
      "INFO:tensorflow:global_step/sec: 155.332\n",
      "INFO:tensorflow:loss = 71.3188, step = 701 (0.644 sec)\n",
      "INFO:tensorflow:global_step/sec: 159.72\n",
      "INFO:tensorflow:loss = 60.15357, step = 801 (0.626 sec)\n",
      "INFO:tensorflow:global_step/sec: 161.674\n",
      "INFO:tensorflow:loss = 67.07324, step = 901 (0.618 sec)\n",
      "INFO:tensorflow:global_step/sec: 157.732\n",
      "INFO:tensorflow:loss = 72.35822, step = 1001 (0.634 sec)\n",
      "INFO:tensorflow:global_step/sec: 168.025\n",
      "INFO:tensorflow:loss = 70.5921, step = 1101 (0.595 sec)\n",
      "INFO:tensorflow:global_step/sec: 169.186\n",
      "INFO:tensorflow:loss = 65.460556, step = 1201 (0.591 sec)\n",
      "INFO:tensorflow:global_step/sec: 170.936\n",
      "INFO:tensorflow:loss = 55.086533, step = 1301 (0.585 sec)\n",
      "INFO:tensorflow:global_step/sec: 165.214\n",
      "INFO:tensorflow:loss = 47.23935, step = 1401 (0.605 sec)\n",
      "INFO:tensorflow:global_step/sec: 164.385\n",
      "INFO:tensorflow:loss = 47.117817, step = 1501 (0.608 sec)\n",
      "INFO:tensorflow:global_step/sec: 161.003\n",
      "INFO:tensorflow:loss = 45.080696, step = 1601 (0.621 sec)\n",
      "INFO:tensorflow:global_step/sec: 160.646\n",
      "INFO:tensorflow:loss = 40.788857, step = 1701 (0.622 sec)\n",
      "INFO:tensorflow:global_step/sec: 161.378\n",
      "INFO:tensorflow:loss = 35.773827, step = 1801 (0.620 sec)\n",
      "INFO:tensorflow:global_step/sec: 161.205\n",
      "INFO:tensorflow:loss = 34.939896, step = 1901 (0.620 sec)\n",
      "INFO:tensorflow:global_step/sec: 165.801\n",
      "INFO:tensorflow:loss = 40.098183, step = 2001 (0.603 sec)\n",
      "INFO:tensorflow:global_step/sec: 164.264\n",
      "INFO:tensorflow:loss = 37.567417, step = 2101 (0.609 sec)\n",
      "INFO:tensorflow:global_step/sec: 159.521\n",
      "INFO:tensorflow:loss = 30.73951, step = 2201 (0.627 sec)\n",
      "INFO:tensorflow:global_step/sec: 162.603\n",
      "INFO:tensorflow:loss = 22.242863, step = 2301 (0.615 sec)\n",
      "INFO:tensorflow:global_step/sec: 163.478\n",
      "INFO:tensorflow:loss = 22.945158, step = 2401 (0.612 sec)\n",
      "INFO:tensorflow:global_step/sec: 162.556\n",
      "INFO:tensorflow:loss = 21.38301, step = 2501 (0.615 sec)\n",
      "INFO:tensorflow:global_step/sec: 158.239\n",
      "INFO:tensorflow:loss = 23.212482, step = 2601 (0.632 sec)\n",
      "INFO:tensorflow:global_step/sec: 164.733\n",
      "INFO:tensorflow:loss = 24.792244, step = 2701 (0.607 sec)\n",
      "INFO:tensorflow:global_step/sec: 137.42\n",
      "INFO:tensorflow:loss = 19.23772, step = 2801 (0.728 sec)\n",
      "INFO:tensorflow:global_step/sec: 157.579\n",
      "INFO:tensorflow:loss = 21.378967, step = 2901 (0.634 sec)\n",
      "INFO:tensorflow:global_step/sec: 160.427\n",
      "INFO:tensorflow:loss = 17.249712, step = 3001 (0.624 sec)\n",
      "INFO:tensorflow:global_step/sec: 147.741\n",
      "INFO:tensorflow:loss = 14.693166, step = 3101 (0.676 sec)\n",
      "INFO:tensorflow:global_step/sec: 154.803\n",
      "INFO:tensorflow:loss = 11.756119, step = 3201 (0.647 sec)\n",
      "INFO:tensorflow:global_step/sec: 144.224\n",
      "INFO:tensorflow:loss = 16.890076, step = 3301 (0.693 sec)\n",
      "INFO:tensorflow:global_step/sec: 142.91\n",
      "INFO:tensorflow:loss = 13.897186, step = 3401 (0.699 sec)\n",
      "INFO:tensorflow:global_step/sec: 172.352\n",
      "INFO:tensorflow:loss = 14.038354, step = 3501 (0.580 sec)\n",
      "INFO:tensorflow:global_step/sec: 154.236\n",
      "INFO:tensorflow:loss = 11.5660515, step = 3601 (0.649 sec)\n",
      "INFO:tensorflow:global_step/sec: 156.601\n",
      "INFO:tensorflow:loss = 10.341247, step = 3701 (0.638 sec)\n",
      "INFO:tensorflow:global_step/sec: 165.443\n",
      "INFO:tensorflow:loss = 10.16602, step = 3801 (0.605 sec)\n",
      "INFO:tensorflow:global_step/sec: 165.503\n",
      "INFO:tensorflow:loss = 11.310707, step = 3901 (0.604 sec)\n",
      "INFO:tensorflow:global_step/sec: 166.851\n",
      "INFO:tensorflow:loss = 9.823002, step = 4001 (0.599 sec)\n",
      "INFO:tensorflow:global_step/sec: 160.608\n",
      "INFO:tensorflow:loss = 15.23703, step = 4101 (0.622 sec)\n",
      "INFO:tensorflow:global_step/sec: 166.804\n",
      "INFO:tensorflow:loss = 9.708801, step = 4201 (0.600 sec)\n",
      "INFO:tensorflow:global_step/sec: 164.73\n",
      "INFO:tensorflow:loss = 13.856365, step = 4301 (0.608 sec)\n",
      "INFO:tensorflow:global_step/sec: 166.407\n",
      "INFO:tensorflow:loss = 9.1056385, step = 4401 (0.600 sec)\n",
      "INFO:tensorflow:global_step/sec: 170.006\n",
      "INFO:tensorflow:loss = 8.919611, step = 4501 (0.588 sec)\n",
      "INFO:tensorflow:global_step/sec: 168.231\n",
      "INFO:tensorflow:loss = 8.139615, step = 4601 (0.594 sec)\n",
      "INFO:tensorflow:global_step/sec: 168.666\n",
      "INFO:tensorflow:loss = 8.729565, step = 4701 (0.593 sec)\n",
      "INFO:tensorflow:global_step/sec: 168.632\n",
      "INFO:tensorflow:loss = 10.348011, step = 4801 (0.593 sec)\n",
      "INFO:tensorflow:global_step/sec: 159.437\n",
      "INFO:tensorflow:loss = 6.3361187, step = 4901 (0.627 sec)\n",
      "INFO:tensorflow:global_step/sec: 155.63\n",
      "INFO:tensorflow:loss = 6.3460827, step = 5001 (0.643 sec)\n",
      "INFO:tensorflow:global_step/sec: 164.372\n",
      "INFO:tensorflow:loss = 11.214693, step = 5101 (0.608 sec)\n",
      "INFO:tensorflow:global_step/sec: 161.188\n",
      "INFO:tensorflow:loss = 5.78022, step = 5201 (0.620 sec)\n",
      "INFO:tensorflow:global_step/sec: 169.292\n",
      "INFO:tensorflow:loss = 7.223152, step = 5301 (0.591 sec)\n",
      "INFO:tensorflow:global_step/sec: 161.451\n",
      "INFO:tensorflow:loss = 5.4004054, step = 5401 (0.619 sec)\n",
      "INFO:tensorflow:global_step/sec: 165.787\n",
      "INFO:tensorflow:loss = 6.467634, step = 5501 (0.603 sec)\n",
      "INFO:tensorflow:global_step/sec: 167.109\n",
      "INFO:tensorflow:loss = 8.37218, step = 5601 (0.598 sec)\n",
      "INFO:tensorflow:global_step/sec: 166.257\n",
      "INFO:tensorflow:loss = 5.743009, step = 5701 (0.602 sec)\n",
      "INFO:tensorflow:global_step/sec: 170.526\n",
      "INFO:tensorflow:loss = 4.9268546, step = 5801 (0.586 sec)\n",
      "INFO:tensorflow:global_step/sec: 162.88\n",
      "INFO:tensorflow:loss = 5.9315453, step = 5901 (0.614 sec)\n",
      "INFO:tensorflow:global_step/sec: 169.872\n",
      "INFO:tensorflow:loss = 4.611408, step = 6001 (0.589 sec)\n",
      "INFO:tensorflow:global_step/sec: 163.273\n",
      "INFO:tensorflow:loss = 3.1432862, step = 6101 (0.612 sec)\n",
      "INFO:tensorflow:global_step/sec: 166.023\n",
      "INFO:tensorflow:loss = 5.0014925, step = 6201 (0.602 sec)\n",
      "INFO:tensorflow:global_step/sec: 170.935\n",
      "INFO:tensorflow:loss = 3.9968572, step = 6301 (0.586 sec)\n",
      "INFO:tensorflow:global_step/sec: 174.108\n",
      "INFO:tensorflow:loss = 4.1591153, step = 6401 (0.574 sec)\n",
      "INFO:tensorflow:global_step/sec: 166.165\n",
      "INFO:tensorflow:loss = 3.8928282, step = 6501 (0.602 sec)\n",
      "INFO:tensorflow:global_step/sec: 174.573\n",
      "INFO:tensorflow:loss = 3.8212872, step = 6601 (0.573 sec)\n",
      "INFO:tensorflow:global_step/sec: 170.51\n",
      "INFO:tensorflow:loss = 3.5146847, step = 6701 (0.586 sec)\n",
      "INFO:tensorflow:global_step/sec: 167.328\n",
      "INFO:tensorflow:loss = 4.411209, step = 6801 (0.598 sec)\n",
      "INFO:tensorflow:global_step/sec: 169.17\n",
      "INFO:tensorflow:loss = 2.4406457, step = 6901 (0.592 sec)\n",
      "INFO:tensorflow:global_step/sec: 174.463\n",
      "INFO:tensorflow:loss = 3.199326, step = 7001 (0.573 sec)\n",
      "INFO:tensorflow:global_step/sec: 167.57\n",
      "INFO:tensorflow:loss = 3.2559094, step = 7101 (0.597 sec)\n",
      "INFO:tensorflow:global_step/sec: 167.445\n",
      "INFO:tensorflow:loss = 3.2447267, step = 7201 (0.597 sec)\n",
      "INFO:tensorflow:global_step/sec: 171.025\n",
      "INFO:tensorflow:loss = 3.3160033, step = 7301 (0.584 sec)\n",
      "INFO:tensorflow:global_step/sec: 168.968\n",
      "INFO:tensorflow:loss = 3.099617, step = 7401 (0.592 sec)\n",
      "INFO:tensorflow:global_step/sec: 163.477\n",
      "INFO:tensorflow:loss = 2.600033, step = 7501 (0.612 sec)\n",
      "INFO:tensorflow:global_step/sec: 168.755\n",
      "INFO:tensorflow:loss = 2.4336033, step = 7601 (0.592 sec)\n",
      "INFO:tensorflow:global_step/sec: 163.846\n",
      "INFO:tensorflow:loss = 2.0257266, step = 7701 (0.610 sec)\n",
      "INFO:tensorflow:global_step/sec: 165.929\n"
     ]
    },
    {
     "name": "stdout",
     "output_type": "stream",
     "text": [
      "INFO:tensorflow:loss = 2.502552, step = 7801 (0.603 sec)\n",
      "INFO:tensorflow:global_step/sec: 171.955\n",
      "INFO:tensorflow:loss = 2.6547666, step = 7901 (0.581 sec)\n",
      "INFO:tensorflow:global_step/sec: 173.953\n",
      "INFO:tensorflow:loss = 4.2660975, step = 8001 (0.575 sec)\n",
      "INFO:tensorflow:global_step/sec: 173.956\n",
      "INFO:tensorflow:loss = 2.691177, step = 8101 (0.575 sec)\n",
      "INFO:tensorflow:global_step/sec: 174.66\n",
      "INFO:tensorflow:loss = 3.5550537, step = 8201 (0.572 sec)\n",
      "INFO:tensorflow:global_step/sec: 180.762\n",
      "INFO:tensorflow:loss = 2.4736707, step = 8301 (0.553 sec)\n",
      "INFO:tensorflow:global_step/sec: 176.012\n",
      "INFO:tensorflow:loss = 2.1807222, step = 8401 (0.568 sec)\n",
      "INFO:tensorflow:global_step/sec: 176.877\n",
      "INFO:tensorflow:loss = 1.8156774, step = 8501 (0.565 sec)\n",
      "INFO:tensorflow:global_step/sec: 169.517\n",
      "INFO:tensorflow:loss = 1.969332, step = 8601 (0.591 sec)\n",
      "INFO:tensorflow:global_step/sec: 168.963\n",
      "INFO:tensorflow:loss = 2.141141, step = 8701 (0.591 sec)\n",
      "INFO:tensorflow:global_step/sec: 179.382\n",
      "INFO:tensorflow:loss = 1.9843363, step = 8801 (0.557 sec)\n",
      "INFO:tensorflow:global_step/sec: 167.265\n",
      "INFO:tensorflow:loss = 2.6693287, step = 8901 (0.598 sec)\n",
      "INFO:tensorflow:global_step/sec: 175.393\n",
      "INFO:tensorflow:loss = 2.3664002, step = 9001 (0.570 sec)\n",
      "INFO:tensorflow:global_step/sec: 171.119\n",
      "INFO:tensorflow:loss = 3.0348601, step = 9101 (0.584 sec)\n",
      "INFO:tensorflow:global_step/sec: 176.725\n",
      "INFO:tensorflow:loss = 1.8264239, step = 9201 (0.566 sec)\n",
      "INFO:tensorflow:global_step/sec: 171.688\n",
      "INFO:tensorflow:loss = 1.9812357, step = 9301 (0.583 sec)\n",
      "INFO:tensorflow:global_step/sec: 175.109\n",
      "INFO:tensorflow:loss = 1.9067304, step = 9401 (0.571 sec)\n",
      "INFO:tensorflow:global_step/sec: 167.604\n",
      "INFO:tensorflow:loss = 1.9450552, step = 9501 (0.597 sec)\n",
      "INFO:tensorflow:global_step/sec: 168.776\n",
      "INFO:tensorflow:loss = 1.8429524, step = 9601 (0.593 sec)\n",
      "INFO:tensorflow:global_step/sec: 160.67\n",
      "INFO:tensorflow:loss = 2.1035755, step = 9701 (0.623 sec)\n",
      "INFO:tensorflow:global_step/sec: 168.757\n",
      "INFO:tensorflow:loss = 1.8225851, step = 9801 (0.593 sec)\n",
      "INFO:tensorflow:global_step/sec: 155.447\n",
      "INFO:tensorflow:loss = 1.8164495, step = 9901 (0.643 sec)\n",
      "INFO:tensorflow:Saving checkpoints for 10000 into /tmp/tmpqxpi4cgz/model.ckpt.\n",
      "INFO:tensorflow:Loss for final step: 1.9927824.\n"
     ]
    }
   ],
   "source": [
    "# Training the model\n",
    "estimator.train(input_fn=train_input_fn, steps=10000);"
   ]
  },
  {
   "cell_type": "markdown",
   "metadata": {},
   "source": [
    "## 4. Test Results\n",
    "\n",
    "### 4.1 Results\n",
    "\n",
    "In the next cells, the accuracy of the train and test sets are printed. The training set accuracy should be very high, and the test set accuracy is probably a lot lower. "
   ]
  },
  {
   "cell_type": "code",
   "execution_count": 7,
   "metadata": {},
   "outputs": [
    {
     "name": "stdout",
     "output_type": "stream",
     "text": [
      "INFO:tensorflow:Calling model_fn.\n",
      "INFO:tensorflow:Initialize variable dnn/input_from_feature_columns/input_layer/Review_hub_module_embedding/module/embeddings/part_0:0 from checkpoint b'/tmp/tfhub_modules/32f2b2259e1cc8ca58c876921748361283e73997/variables/variables' with embeddings\n",
      "INFO:tensorflow:Done calling model_fn.\n",
      "INFO:tensorflow:Starting evaluation at 2018-07-24-12:09:52\n",
      "INFO:tensorflow:Graph was finalized.\n",
      "INFO:tensorflow:Restoring parameters from /tmp/tmpqxpi4cgz/model.ckpt-10000\n",
      "INFO:tensorflow:Running local_init_op.\n",
      "INFO:tensorflow:Done running local_init_op.\n",
      "INFO:tensorflow:Finished evaluation at 2018-07-24-12:09:55\n",
      "INFO:tensorflow:Saving dict for global step 10000: accuracy = 1.0, average_loss = 0.013610808, global_step = 10000, loss = 1.6624631\n",
      "INFO:tensorflow:Saving 'checkpoint_path' summary for global step 10000: /tmp/tmpqxpi4cgz/model.ckpt-10000\n",
      "INFO:tensorflow:Calling model_fn.\n",
      "INFO:tensorflow:Initialize variable dnn/input_from_feature_columns/input_layer/Review_hub_module_embedding/module/embeddings/part_0:0 from checkpoint b'/tmp/tfhub_modules/32f2b2259e1cc8ca58c876921748361283e73997/variables/variables' with embeddings\n",
      "INFO:tensorflow:Done calling model_fn.\n",
      "INFO:tensorflow:Starting evaluation at 2018-07-24-12:09:56\n",
      "INFO:tensorflow:Graph was finalized.\n",
      "INFO:tensorflow:Restoring parameters from /tmp/tmpqxpi4cgz/model.ckpt-10000\n",
      "INFO:tensorflow:Running local_init_op.\n",
      "INFO:tensorflow:Done running local_init_op.\n",
      "INFO:tensorflow:Finished evaluation at 2018-07-24-12:09:59\n",
      "INFO:tensorflow:Saving dict for global step 10000: accuracy = 0.6898771, average_loss = 1.52271, global_step = 10000, loss = 185.87938\n",
      "INFO:tensorflow:Saving 'checkpoint_path' summary for global step 10000: /tmp/tmpqxpi4cgz/model.ckpt-10000\n",
      "Training set accuracy: 1.0\n",
      "Test set accuracy: 0.6898770928382874\n"
     ]
    }
   ],
   "source": [
    "train_eval_result = estimator.evaluate(input_fn=predict_train_input_fn)\n",
    "test_eval_result = estimator.evaluate(input_fn=predict_test_input_fn)\n",
    "\n",
    "print(\"Training set accuracy: {accuracy}\".format(**train_eval_result))\n",
    "print(\"Test set accuracy: {accuracy}\".format(**test_eval_result))"
   ]
  },
  {
   "cell_type": "markdown",
   "metadata": {},
   "source": [
    "The test set contains new data that hasn't been used to train the model, it resembles a real life review. The accuracy is a meaningful metric when the distribution of target variable classes is pretty much even (which in this case it is not).\n",
    "\n",
    "### 4.2 Confusion Matrix\n",
    "A [confusion matrix](https://en.wikipedia.org/wiki/Confusion_matrix) is a convenient visualization to show the TP's, TN's, FP's, and FN's. Accuracy, precision, recall, and specificity can be read from it. Additionally, an F1 score may be calculated to represent both recall and specificity. The trace of a confusion matrix should be high."
   ]
  },
  {
   "cell_type": "code",
   "execution_count": 8,
   "metadata": {},
   "outputs": [
    {
     "name": "stdout",
     "output_type": "stream",
     "text": [
      "INFO:tensorflow:Calling model_fn.\n",
      "INFO:tensorflow:Initialize variable dnn/input_from_feature_columns/input_layer/Review_hub_module_embedding/module/embeddings/part_0:0 from checkpoint b'/tmp/tfhub_modules/32f2b2259e1cc8ca58c876921748361283e73997/variables/variables' with embeddings\n",
      "INFO:tensorflow:Done calling model_fn.\n",
      "INFO:tensorflow:Graph was finalized.\n",
      "INFO:tensorflow:Restoring parameters from /tmp/tmpqxpi4cgz/model.ckpt-10000\n",
      "INFO:tensorflow:Running local_init_op.\n",
      "INFO:tensorflow:Done running local_init_op.\n"
     ]
    },
    {
     "data": {
      "image/png": "[encoded data removed]",
      "text/plain": [
       "<matplotlib.figure.Figure at 0x7f9674f4dd30>"
      ]
     },
     "metadata": {},
     "output_type": "display_data"
    }
   ],
   "source": [
    "# Convert labels back to type int to match predictions\n",
    "test_df['Score'] = test_df['Score'].astype(int)\n",
    "\n",
    "# Gets prediction values for estimator using input function\n",
    "def get_predictions(estimator, input_fn):\n",
    "    return [x[\"class_ids\"][0] for x in estimator.predict(input_fn=input_fn)]\n",
    "\n",
    "# Create a confusion matrix on training data.\n",
    "with tf.Graph().as_default():\n",
    "    cm = tf.confusion_matrix(test_df[\"Score\"], \n",
    "        get_predictions(estimator, predict_test_input_fn))\n",
    "    with tf.Session() as session:\n",
    "        cm_out = session.run(cm)\n",
    "\n",
    "# Exclude first row and last col\n",
    "cm_out = cm_out[1:, :-1]\n",
    "\n",
    "# Normalize the confusion matrix so that each row sums to 1.\n",
    "cm_norm = cm_out.astype(float) / cm_out.sum(axis=1)[:, np.newaxis]\n",
    "\n",
    "sns.heatmap(cm_norm, annot=True, xticklabels=LABELS, yticklabels=LABELS);\n",
    "plt.xlabel(\"Predicted\");\n",
    "plt.ylabel(\"True\");\n",
    "plt.show();"
   ]
  },
  {
   "cell_type": "code",
   "execution_count": 9,
   "metadata": {},
   "outputs": [
    {
     "name": "stdout",
     "output_type": "stream",
     "text": [
      "confusion matrix:\n",
      " [[  97    5    9    6   42]\n",
      " [  19    5    7    2   19]\n",
      " [  12    2   16    4   46]\n",
      " [  13    3   15   43  170]\n",
      " [  37    6   15   98 1018]]\n",
      "\n",
      "accuracy: 0.689877121123464\n",
      "1\n",
      "precision: 0.610062893081761\n",
      "recall 0.5449438202247191\n",
      "specificity 0.9303525365434222\n",
      "f1 0.57566765578635\n",
      "\n",
      "2\n",
      "precision: 0.09615384615384616\n",
      "recall 0.23809523809523808\n",
      "specificity 0.9865546218487395\n",
      "f1 0.136986301369863\n",
      "\n",
      "3\n",
      "precision: 0.2\n",
      "recall 0.25806451612903225\n",
      "specificity 0.9619520264681555\n",
      "f1 0.22535211267605634\n",
      "\n",
      "4\n",
      "precision: 0.1762295081967213\n",
      "recall 0.28104575163398693\n",
      "specificity 0.9117174959871589\n",
      "f1 0.21662468513853902\n",
      "\n",
      "5\n",
      "precision: 0.8671209540034072\n",
      "recall 0.7861003861003861\n",
      "specificity 0.3675799086757991\n",
      "f1 0.8246253543944917\n",
      "\n"
     ]
    }
   ],
   "source": [
    "# Trace divided by sum of matrix\n",
    "def accuracy(cm):\n",
    "    return cm.trace() / cm.sum()\n",
    "    \n",
    "# TP / TP + FP\n",
    "def precision(cm, col_nr):\n",
    "    col_sum = cm[col_nr, :].sum()\n",
    "    if not col_sum:\n",
    "        return 0\n",
    "    return cm[col_nr, col_nr] / col_sum\n",
    "\n",
    "# TP / TP + FN\n",
    "def recall(cm, row_nr):\n",
    "    row_sum = cm[:, row_nr].sum()\n",
    "    if not row_sum:\n",
    "        return 0\n",
    "    return cm[row_nr, row_nr] / row_sum\n",
    "\n",
    "# TN / TN + FP\n",
    "def specificity(cm, row_nr):\n",
    "    TN = cm.trace() - cm[row_nr, row_nr]\n",
    "    FP = cm[:, row_nr].sum() - cm[row_nr, row_nr]\n",
    "    if not TN and not FP:\n",
    "        return 0\n",
    "    return TN / (TN + FP)\n",
    "\n",
    "# Represents precision and recall\n",
    "def f1(cm, n):\n",
    "    p = precision(cm, n)\n",
    "    r = recall(cm, n)\n",
    "    if not p or not r:\n",
    "        return 0\n",
    "    return 2 * p * r / (p + r)\n",
    "    \n",
    "print('confusion matrix:\\n', cm_out)\n",
    "print()\n",
    "print('accuracy:', accuracy(cm_out))\n",
    "for n in range(5):\n",
    "    print(n + 1)\n",
    "    print('precision:', precision(cm_out, n))\n",
    "    print('recall', recall(cm_out, n))\n",
    "    print('specificity', specificity(cm_out, n))\n",
    "    print('f1', f1(cm_out, n))\n",
    "    print()"
   ]
  },
  {
   "cell_type": "markdown",
   "metadata": {},
   "source": [
    "The resulting model is perfect for predicting reviews from the train data. When it faces real data, it has a lower accuracy by far. \n",
    "\n",
    "### 4.3 ROC Curve\n",
    "\n",
    "The Receiver Operating Characteristic curve plots the true positive rate against the false positive rate. The AUC should be as close to 1 as possible."
   ]
  },
  {
   "cell_type": "code",
   "execution_count": 10,
   "metadata": {},
   "outputs": [
    {
     "name": "stdout",
     "output_type": "stream",
     "text": [
      "INFO:tensorflow:Calling model_fn.\n",
      "INFO:tensorflow:Initialize variable dnn/input_from_feature_columns/input_layer/Review_hub_module_embedding/module/embeddings/part_0:0 from checkpoint b'/tmp/tfhub_modules/32f2b2259e1cc8ca58c876921748361283e73997/variables/variables' with embeddings\n",
      "INFO:tensorflow:Done calling model_fn.\n",
      "INFO:tensorflow:Graph was finalized.\n",
      "INFO:tensorflow:Restoring parameters from /tmp/tmpqxpi4cgz/model.ckpt-10000\n",
      "INFO:tensorflow:Running local_init_op.\n",
      "INFO:tensorflow:Done running local_init_op.\n"
     ]
    }
   ],
   "source": [
    "def get_probabilities(estimator, input_fn):\n",
    "    return np.matrix([x['probabilities'] for x in estimator.predict(input_fn=input_fn)])\n",
    "\n",
    "probabilities = get_probabilities(estimator, predict_test_input_fn)\n",
    "actual = test_df.iloc[:, 2]"
   ]
  },
  {
   "cell_type": "code",
   "execution_count": 11,
   "metadata": {},
   "outputs": [
    {
     "data": {
      "text/plain": [
       "[<matplotlib.lines.Line2D at 0x7f9674eeb470>]"
      ]
     },
     "execution_count": 11,
     "metadata": {},
     "output_type": "execute_result"
    },
    {
     "data": {
      "text/plain": [
       "<matplotlib.legend.Legend at 0x7f9674eeb940>"
      ]
     },
     "execution_count": 11,
     "metadata": {},
     "output_type": "execute_result"
    },
    {
     "data": {
      "text/plain": [
       "[<matplotlib.lines.Line2D at 0x7f9674ef1160>]"
      ]
     },
     "execution_count": 11,
     "metadata": {},
     "output_type": "execute_result"
    },
    {
     "data": {
      "text/plain": [
       "(0, 1)"
      ]
     },
     "execution_count": 11,
     "metadata": {},
     "output_type": "execute_result"
    },
    {
     "data": {
      "text/plain": [
       "(0, 1)"
      ]
     },
     "execution_count": 11,
     "metadata": {},
     "output_type": "execute_result"
    },
    {
     "data": {
      "text/plain": [
       "<matplotlib.text.Text at 0x7f967502a9e8>"
      ]
     },
     "execution_count": 11,
     "metadata": {},
     "output_type": "execute_result"
    },
    {
     "data": {
      "text/plain": [
       "<matplotlib.text.Text at 0x7f96750957f0>"
      ]
     },
     "execution_count": 11,
     "metadata": {},
     "output_type": "execute_result"
    },
    {
     "data": {
      "image/png": "[encoded data removed]",
      "text/plain": [
       "<matplotlib.figure.Figure at 0x7f96563867f0>"
      ]
     },
     "metadata": {},
     "output_type": "display_data"
    },
    {
     "data": {
      "text/plain": [
       "[<matplotlib.lines.Line2D at 0x7f96ac0a5630>]"
      ]
     },
     "execution_count": 11,
     "metadata": {},
     "output_type": "execute_result"
    },
    {
     "data": {
      "text/plain": [
       "<matplotlib.legend.Legend at 0x7f96751528d0>"
      ]
     },
     "execution_count": 11,
     "metadata": {},
     "output_type": "execute_result"
    },
    {
     "data": {
      "text/plain": [
       "[<matplotlib.lines.Line2D at 0x7f9675152320>]"
      ]
     },
     "execution_count": 11,
     "metadata": {},
     "output_type": "execute_result"
    },
    {
     "data": {
      "text/plain": [
       "(0, 1)"
      ]
     },
     "execution_count": 11,
     "metadata": {},
     "output_type": "execute_result"
    },
    {
     "data": {
      "text/plain": [
       "(0, 1)"
      ]
     },
     "execution_count": 11,
     "metadata": {},
     "output_type": "execute_result"
    },
    {
     "data": {
      "text/plain": [
       "<matplotlib.text.Text at 0x7f96755f7ef0>"
      ]
     },
     "execution_count": 11,
     "metadata": {},
     "output_type": "execute_result"
    },
    {
     "data": {
      "text/plain": [
       "<matplotlib.text.Text at 0x7f9674fcdbe0>"
      ]
     },
     "execution_count": 11,
     "metadata": {},
     "output_type": "execute_result"
    },
    {
     "data": {
      "image/png": "[encoded data removed]",
      "text/plain": [
       "<matplotlib.figure.Figure at 0x7f9675077400>"
      ]
     },
     "metadata": {},
     "output_type": "display_data"
    },
    {
     "data": {
      "text/plain": [
       "[<matplotlib.lines.Line2D at 0x7f967544f5c0>]"
      ]
     },
     "execution_count": 11,
     "metadata": {},
     "output_type": "execute_result"
    },
    {
     "data": {
      "text/plain": [
       "<matplotlib.legend.Legend at 0x7f96756d94e0>"
      ]
     },
     "execution_count": 11,
     "metadata": {},
     "output_type": "execute_result"
    },
    {
     "data": {
      "text/plain": [
       "[<matplotlib.lines.Line2D at 0x7f96756481d0>]"
      ]
     },
     "execution_count": 11,
     "metadata": {},
     "output_type": "execute_result"
    },
    {
     "data": {
      "text/plain": [
       "(0, 1)"
      ]
     },
     "execution_count": 11,
     "metadata": {},
     "output_type": "execute_result"
    },
    {
     "data": {
      "text/plain": [
       "(0, 1)"
      ]
     },
     "execution_count": 11,
     "metadata": {},
     "output_type": "execute_result"
    },
    {
     "data": {
      "text/plain": [
       "<matplotlib.text.Text at 0x7f967518ecc0>"
      ]
     },
     "execution_count": 11,
     "metadata": {},
     "output_type": "execute_result"
    },
    {
     "data": {
      "text/plain": [
       "<matplotlib.text.Text at 0x7f96ac0a9898>"
      ]
     },
     "execution_count": 11,
     "metadata": {},
     "output_type": "execute_result"
    },
    {
     "data": {
      "image/png": "[encoded data removed]",
      "text/plain": [
       "<matplotlib.figure.Figure at 0x7f9674fdedd8>"
      ]
     },
     "metadata": {},
     "output_type": "display_data"
    },
    {
     "data": {
      "text/plain": [
       "[<matplotlib.lines.Line2D at 0x7f9674f3dd30>]"
      ]
     },
     "execution_count": 11,
     "metadata": {},
     "output_type": "execute_result"
    },
    {
     "data": {
      "text/plain": [
       "<matplotlib.legend.Legend at 0x7f9674f23668>"
      ]
     },
     "execution_count": 11,
     "metadata": {},
     "output_type": "execute_result"
    },
    {
     "data": {
      "text/plain": [
       "[<matplotlib.lines.Line2D at 0x7f9674f23be0>]"
      ]
     },
     "execution_count": 11,
     "metadata": {},
     "output_type": "execute_result"
    },
    {
     "data": {
      "text/plain": [
       "(0, 1)"
      ]
     },
     "execution_count": 11,
     "metadata": {},
     "output_type": "execute_result"
    },
    {
     "data": {
      "text/plain": [
       "(0, 1)"
      ]
     },
     "execution_count": 11,
     "metadata": {},
     "output_type": "execute_result"
    },
    {
     "data": {
      "text/plain": [
       "<matplotlib.text.Text at 0x7f96947128d0>"
      ]
     },
     "execution_count": 11,
     "metadata": {},
     "output_type": "execute_result"
    },
    {
     "data": {
      "text/plain": [
       "<matplotlib.text.Text at 0x7f967518e710>"
      ]
     },
     "execution_count": 11,
     "metadata": {},
     "output_type": "execute_result"
    },
    {
     "data": {
      "image/png": "[encoded data removed]",
      "text/plain": [
       "<matplotlib.figure.Figure at 0x7f967523d2b0>"
      ]
     },
     "metadata": {},
     "output_type": "display_data"
    },
    {
     "data": {
      "text/plain": [
       "[<matplotlib.lines.Line2D at 0x7f96754b1e80>]"
      ]
     },
     "execution_count": 11,
     "metadata": {},
     "output_type": "execute_result"
    },
    {
     "data": {
      "text/plain": [
       "<matplotlib.legend.Legend at 0x7f96754c2940>"
      ]
     },
     "execution_count": 11,
     "metadata": {},
     "output_type": "execute_result"
    },
    {
     "data": {
      "text/plain": [
       "[<matplotlib.lines.Line2D at 0x7f96754b4ba8>]"
      ]
     },
     "execution_count": 11,
     "metadata": {},
     "output_type": "execute_result"
    },
    {
     "data": {
      "text/plain": [
       "(0, 1)"
      ]
     },
     "execution_count": 11,
     "metadata": {},
     "output_type": "execute_result"
    },
    {
     "data": {
      "text/plain": [
       "(0, 1)"
      ]
     },
     "execution_count": 11,
     "metadata": {},
     "output_type": "execute_result"
    },
    {
     "data": {
      "text/plain": [
       "<matplotlib.text.Text at 0x7f9674f242b0>"
      ]
     },
     "execution_count": 11,
     "metadata": {},
     "output_type": "execute_result"
    },
    {
     "data": {
      "text/plain": [
       "<matplotlib.text.Text at 0x7f9674f31358>"
      ]
     },
     "execution_count": 11,
     "metadata": {},
     "output_type": "execute_result"
    },
    {
     "data": {
      "image/png": "[encoded data removed]",
      "text/plain": [
       "<matplotlib.figure.Figure at 0x7f967507d710>"
      ]
     },
     "metadata": {},
     "output_type": "display_data"
    }
   ],
   "source": [
    "def roc_for_class(pos):\n",
    "    return roc_curve(actual, probabilities[:, pos], pos_label=pos + 1)\n",
    "\n",
    "# Show ROC for each class\n",
    "for i in range(5):\n",
    "    fpr, tpr, thresholds = roc_for_class(i)\n",
    "\n",
    "    roc_auc = auc(fpr, tpr)\n",
    "\n",
    "    plt.plot(fpr, tpr, 'b', label = 'AUC = %0.2f' % roc_auc)\n",
    "    plt.legend(loc = 'lower right')\n",
    "    plt.plot([0, 1], [0, 1],'r--')\n",
    "    plt.xlim([0, 1])\n",
    "    plt.ylim([0, 1])\n",
    "    plt.ylabel('True Positive Rate')\n",
    "    plt.xlabel('False Positive Rate')\n",
    "    plt.show()"
   ]
  },
  {
   "cell_type": "markdown",
   "metadata": {},
   "source": [
    "### 4.4 Improvements\n",
    "\n",
    "Adding more training data so that the distribution of scores is more even.\n",
    "\n",
    "Some [techniques](https://www.youtube.com/watch?v=u4alGiomYP4&feature=youtu.be&t=2063) to combat overfitting in neural networks that may be applied are:\n",
    "\n",
    "regularization (dropout)\n",
    "reducing amount of layers / neurons (using [cross validation](https://www.researchgate.net/post/How_to_decide_the_number_of_hidden_layers_and_nodes_in_a_hidden_layer) as feedback)\n",
    "Tuning the learning rate. As shown in the video above, it is useful to apply an exponential decay to the learning rate while training to reduce the noise."
   ]
  },
  {
   "cell_type": "markdown",
   "metadata": {},
   "source": [
    "## 5. Run"
   ]
  },
  {
   "cell_type": "code",
   "execution_count": 12,
   "metadata": {
    "scrolled": true
   },
   "outputs": [
    {
     "name": "stdout",
     "output_type": "stream",
     "text": [
      "INFO:tensorflow:Calling model_fn.\n",
      "INFO:tensorflow:Initialize variable dnn/input_from_feature_columns/input_layer/Review_hub_module_embedding/module/embeddings/part_0:0 from checkpoint b'/tmp/tfhub_modules/32f2b2259e1cc8ca58c876921748361283e73997/variables/variables' with embeddings\n",
      "INFO:tensorflow:Done calling model_fn.\n",
      "INFO:tensorflow:Graph was finalized.\n",
      "INFO:tensorflow:Restoring parameters from /tmp/tmpqxpi4cgz/model.ckpt-10000\n",
      "INFO:tensorflow:Running local_init_op.\n",
      "INFO:tensorflow:Done running local_init_op.\n"
     ]
    },
    {
     "data": {
      "text/plain": [
       "[array([b'3'], dtype=object),\n",
       " array([b'4'], dtype=object),\n",
       " array([b'5'], dtype=object),\n",
       " array([b'3'], dtype=object),\n",
       " array([b'5'], dtype=object),\n",
       " array([b'1'], dtype=object)]"
      ]
     },
     "execution_count": 12,
     "metadata": {},
     "output_type": "execute_result"
    }
   ],
   "source": [
    "# Some personal reviews\n",
    "classify_these = np.array([\n",
    "    \"Ordered an electric lawn mower. I am very disappointed with it and I contacted their customer service the first time and the guy who answered the phone was looks unknowledgeable that's when  I told him that I need to speak to the manager or anyone who can really help me. The customer service agent then transfered the call and the manager rest assured that they will be refunding my bucks. Really disappointed!\",\n",
    "    \"Great service, the refridgerator I ordered was deliverd one day after\",\n",
    "    \"Totally awesome! Best service in the history of mankind. Super satisfied!\",\n",
    "    \"meh it was bad\",\n",
    "    \"This classifier is pretty good, this should be a five\",\n",
    "    \"Why didn't this review score worse? I'm very disappointed in this classifier. A terrible classification this is, I want a refund...\"\n",
    "])\n",
    "\n",
    "# Make predictions of the personal reviews\n",
    "predict = tf.estimator.inputs.numpy_input_fn(x={\"Review\": classify_these}, num_epochs=1, shuffle=False)\n",
    "predictions = list(estimator.predict(input_fn=predict))\n",
    "predicted_classes = [p[\"classes\"] for p in predictions]\n",
    "predicted_classes"
   ]
  },
  {
   "cell_type": "markdown",
   "metadata": {},
   "source": [
    "## 6. Saving and Restoring"
   ]
  },
  {
   "cell_type": "code",
   "execution_count": 13,
   "metadata": {},
   "outputs": [
    {
     "name": "stdout",
     "output_type": "stream",
     "text": [
      "Model not saved, a model already exists in ../models/model\n"
     ]
    }
   ],
   "source": [
    "# Saving the model\n",
    "def serving_input_fn():\n",
    "    inputs = {'Review': tf.placeholder(tf.string)}\n",
    "    return tf.estimator.export.ServingInputReceiver(inputs, inputs)\n",
    "\n",
    "if not os.path.exists(SAVE_MODEL_PATH):\n",
    "    os.replace(estimator.export_savedmodel('../models', serving_input_fn).decode(\"utf-8\"), SAVE_MODEL_PATH)\n",
    "else:\n",
    "    print('Model not saved, a model already exists in', SAVE_MODEL_PATH)"
   ]
  },
  {
   "cell_type": "code",
   "execution_count": 14,
   "metadata": {},
   "outputs": [
    {
     "name": "stdout",
     "output_type": "stream",
     "text": [
      "INFO:tensorflow:Restoring parameters from ../models/model/variables/variables\n"
     ]
    }
   ],
   "source": [
    "# Restoring the model\n",
    "predict_fn = tf.contrib.predictor.from_saved_model(SAVE_MODEL_PATH)"
   ]
  },
  {
   "cell_type": "code",
   "execution_count": 15,
   "metadata": {},
   "outputs": [
    {
     "name": "stdout",
     "output_type": "stream",
     "text": [
      "[[b'1' b'2' b'3' b'4' b'5']]\n",
      "[[0.2758189  0.00808376 0.20600097 0.4813096  0.02878675]]\n",
      "highest score index:  3\n",
      "predicted class:  4\n"
     ]
    }
   ],
   "source": [
    "# Make a prediction with the restored model\n",
    "predictions = predict_fn({\"inputs\": [\"Ordered an electric lawn mower. I am very disappointed with it and I contacted their customer service the first time and the guy who answered the phone was looks unknowledgeable that's when  I told him that I need to speak to the manager or anyone who can really help me. The customer service agent then transfered the call and the manager rest assured that they will be refunding my bucks. Really disappointed!\"]})\n",
    "\n",
    "highest_score_index = np.argmax(predictions['scores'])\n",
    "\n",
    "print(predictions['classes'])\n",
    "print(predictions['scores'])\n",
    "print('highest score index: ', highest_score_index)\n",
    "print('predicted class: ', predictions['classes'][0][highest_score_index].decode(\"utf-8\"))"
   ]
  }
 ],
 "metadata": {
  "kernelspec": {
   "display_name": "Python 3",
   "language": "python",
   "name": "python3"
  },
  "language_info": {
   "codemirror_mode": {
    "name": "ipython",
    "version": 3
   },
   "file_extension": ".py",
   "mimetype": "text/x-python",
   "name": "python",
   "nbconvert_exporter": "python",
   "pygments_lexer": "ipython3",
   "version": "3.5.2"
  }
 },
 "nbformat": 4,
 "nbformat_minor": 2
}
